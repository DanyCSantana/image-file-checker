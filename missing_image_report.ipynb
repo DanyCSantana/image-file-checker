{
 "cells": [
  {
   "cell_type": "code",
   "execution_count": 2,
   "id": "bc8c43c8-9344-47c9-9931-202b6dccf912",
   "metadata": {},
   "outputs": [],
   "source": [
    "# ------------------------------------------------------------\n",
    "#  Script Purpose:\n",
    "# This script checks which image files are missing in a folder \n",
    "# based on a list of expected filenames stored in a text file.\n",
    "# ------------------------------------------------------------\n",
    "\n",
    "#  1. Read the list of expected filenames\n",
    "# The text file \"images filename.txt\" contains all the expected image filenames,\n",
    "# one per line. It is located in:\n",
    "# Z:\\4_Metadata\\Sri Lankan - UL\\2025\\0825\\Everhub\\Resized Images\\Movies\\1024x400\n",
    "\n",
    "#  2. Define the folder that should contain the actual images\n",
    "# The target folder to be checked is:\n",
    "# Z:\\4_Metadata\\Sri Lankan - UL\\2025\\0825\\Everhub\\Resized Images\\Movies\\600x900\n",
    "\n",
    "#  3. Compare expected filenames vs. actual files in the target folder\n",
    "# The script checks which files from the list exist in the target folder\n",
    "# and identifies the missing ones.\n",
    "\n",
    "#  4. Generate a report of missing files\n",
    "# A text report named \"relatorio_faltando.txt\" is saved in the target folder.\n",
    "# It includes:\n",
    "# - Total expected files\n",
    "# - Total found files\n",
    "# - Total missing files\n",
    "# - A list of the missing filenames\n"
   ]
  },
  {
   "cell_type": "code",
   "execution_count": null,
   "id": "5cfb9da3-f083-46fa-9a5b-efd7c521446c",
   "metadata": {},
   "outputs": [],
   "source": [
    "import os\n",
    "\n",
    "# ------------------------------------------------------------\n",
    "# 🔍 Script to check which expected image files are missing\n",
    "#    in a given folder, based on a reference .txt file.\n",
    "# ------------------------------------------------------------\n",
    "\n",
    "# 📥 Ask user for the folder path where the images should be\n",
    "target_folder = input(\"Enter the full path to the image folder to check: \").strip()\n",
    "\n",
    "# 📄 Ask user for the path to the text file with expected filenames\n",
    "txt_path = input(\"Enter the full path to the .txt file with expected filenames: \").strip()\n",
    "\n",
    "# 🧾 Read expected filenames from the .txt file\n",
    "try:\n",
    "    with open(txt_path, 'r', encoding='utf-8') as f:\n",
    "        expected_files = [line.strip() for line in f if line.strip()]\n",
    "except FileNotFoundError:\n",
    "    print(\"❌ Could not find the file. Please check the path and try again.\")\n",
    "    exit()\n",
    "\n",
    "# 📁 List all files currently in the target folder\n",
    "try:\n",
    "    existing_files = os.listdir(target_folder)\n",
    "except FileNotFoundError:\n",
    "    print(\"❌ Target folder not found. Please check the path and try again.\")\n",
    "    exit()\n",
    "\n",
    "# ✅ Identify which files are missing\n",
    "missing_files = [name for name in expected_files if name not in existing_files]\n",
    "\n",
    "# 📝 Create a missing files report in the same folder\n",
    "report_path = os.path.join(target_folder, 'missing_report.txt')\n",
    "with open(report_path, 'w', encoding='utf-8') as f:\n",
    "    f.write(f\"📋 Total expected files: {len(expected_files)}\\n\")\n",
    "    f.write(f\"✅ Files found: {len(expected_files) - len(missing_files)}\\n\")\n",
    "    f.write(f\"❌ Missing files: {len(missing_files)}\\n\\n\")\n",
    "    for name in missing_files:\n",
    "        f.write(name + '\\n')\n",
    "\n",
    "print(f\"✅ Report saved to: {report_path}\")\n"
   ]
  },
  {
   "cell_type": "code",
   "execution_count": null,
   "id": "384671c5-86d4-4ec8-a82f-8603ade07771",
   "metadata": {},
   "outputs": [],
   "source": []
  }
 ],
 "metadata": {
  "kernelspec": {
   "display_name": "Python 3 (ipykernel)",
   "language": "python",
   "name": "python3"
  },
  "language_info": {
   "codemirror_mode": {
    "name": "ipython",
    "version": 3
   },
   "file_extension": ".py",
   "mimetype": "text/x-python",
   "name": "python",
   "nbconvert_exporter": "python",
   "pygments_lexer": "ipython3",
   "version": "3.13.5"
  }
 },
 "nbformat": 4,
 "nbformat_minor": 5
}
