{
 "cells": [
  {
   "cell_type": "code",
   "execution_count": 6,
   "id": "df9da85b-a16c-4212-8581-a3cea81035c0",
   "metadata": {},
   "outputs": [],
   "source": [
    "# ---------------------------------------------------------------\n",
    "# Image Resizing and Cropping Script with Optional Top/Center Crop\n",
    "# Author: [Seu Nome]\n",
    "# Description:\n",
    "#     This script resizes images to selected dimensions and\n",
    "#     crops them using 'center' or 'top' modes.\n",
    "#     You can choose to generate only center-cropped images (e.g., for posters)\n",
    "#     or both center and top crops (e.g., for stills).\n",
    "# ---------------------------------------------------------------\n"
   ]
  },
  {
   "cell_type": "code",
   "execution_count": 18,
   "id": "2e4253fb-4ccd-4ead-a7ed-ba4c5efd7282",
   "metadata": {},
   "outputs": [
    {
     "name": "stdout",
     "output_type": "stream",
     "text": [
      "Welcome to the Images Resizing and Cropping Script!\n",
      "Please fill in the following information before running the script:\n"
     ]
    },
    {
     "name": "stdin",
     "output_type": "stream",
     "text": [
      "Enter the path where the original images are located (Press Enter):  C:\\Users\\Danyella.Santana\\Downloads\\Test - Github\n",
      "Enter the path where resized images should be saved (Press Enter):  C:\\Users\\Danyella.Santana\\Downloads\\Test - Github\n"
     ]
    },
    {
     "name": "stdout",
     "output_type": "stream",
     "text": [
      "\n",
      "Which crop version do you want to generate?\n",
      "1 - Only center crop (Poster)\n",
      "2 - Center and top crops (Still)\n"
     ]
    },
    {
     "name": "stdin",
     "output_type": "stream",
     "text": [
      "Enter 1 or 2:  2\n"
     ]
    },
    {
     "name": "stdout",
     "output_type": "stream",
     "text": [
      "\n",
      "Select the Size required (enter dimensions as width,height):\n"
     ]
    },
    {
     "name": "stdin",
     "output_type": "stream",
     "text": [
      "Enter dimension (or 'done' to finish):  600,900\n",
      "Enter dimension (or 'done' to finish):  done\n"
     ]
    },
    {
     "name": "stderr",
     "output_type": "stream",
     "text": [
      "Processing 600x900: 100%|████████████████████████████████████████████████████████████████| 6/6 [00:01<00:00,  5.62it/s]"
     ]
    },
    {
     "name": "stdout",
     "output_type": "stream",
     "text": [
      "✅ Resizing and cropping completed.\n"
     ]
    },
    {
     "name": "stderr",
     "output_type": "stream",
     "text": [
      "\n"
     ]
    }
   ],
   "source": [
    "print(\"Welcome to the Images Resizing and Cropping Script!\")\n",
    "print(\"Please fill in the following information before running the script:\")\n",
    "\n",
    "input_dir = input(\"Enter the path where the original images are located (Press Enter): \").strip()\n",
    "base_output_dir = input(\"Enter the path where resized images should be saved (Press Enter): \").strip()\n",
    "\n",
    "# Prompt for cropping type\n",
    "print(\"\\nWhich crop version do you want to generate?\")\n",
    "print(\"1 - Only center crop (Poster)\")\n",
    "print(\"2 - Center and top crops (Still)\")\n",
    "crop_option = input(\"Enter 1 or 2: \").strip()\n",
    "\n",
    "while crop_option not in ['1', '2']:\n",
    "    crop_option = input(\"Invalid option. Please enter 1 or 2: \").strip()\n",
    "\n",
    "print(\"\\nSelect the Size required (enter dimensions as width,height):\")\n",
    "dimensions = []\n",
    "while True:\n",
    "    dimension_input = input(\"Enter dimension (or 'done' to finish): \").strip()\n",
    "    if dimension_input.lower() == 'done':\n",
    "        break\n",
    "    try:\n",
    "        width, height = map(int, dimension_input.split(','))\n",
    "        dimensions.append((width, height))\n",
    "    except ValueError:\n",
    "        print(\"Invalid input. Please enter dimensions as width,height.\")\n",
    "\n",
    "from PIL import Image\n",
    "import os\n",
    "from tqdm import tqdm\n",
    "\n",
    "def resize_and_crop(img, size, crop_type='center'):\n",
    "    \"\"\"\n",
    "    Resize and crop an image to fit the specified size.\n",
    "    :param img: PIL Image object\n",
    "    :param size: tuple of (width, height)\n",
    "    :param crop_type: can be 'top' or 'center'\n",
    "    \"\"\"\n",
    "    target_width, target_height = size\n",
    "    img_ratio = img.width / img.height\n",
    "    target_ratio = target_width / target_height\n",
    "\n",
    "    if img_ratio > target_ratio:\n",
    "        new_height = target_height\n",
    "        new_width = int(new_height * img_ratio)\n",
    "    else:\n",
    "        new_width = target_width\n",
    "        new_height = int(new_width / img_ratio)\n",
    "\n",
    "    img = img.resize((new_width, new_height), Image.LANCZOS)\n",
    "\n",
    "    left = (new_width - target_width) // 2\n",
    "    top = 0 if crop_type == 'top' else (new_height - target_height) // 2\n",
    "    right = left + target_width\n",
    "    bottom = top + target_height\n",
    "\n",
    "    return img.crop((left, top, right, bottom))\n",
    "\n",
    "# Process images with progress bar\n",
    "image_files = [f for f in os.listdir(input_dir) if f.lower().endswith(('.png', '.jpg', '.jpeg', '.bmp', '.gif'))]\n",
    "\n",
    "for width, height in dimensions:\n",
    "    dimension_folder = f'{width}x{height}'\n",
    "    output_dir = os.path.join(base_output_dir, dimension_folder)\n",
    "\n",
    "    if crop_option == '2':\n",
    "        top_crop_folder = os.path.join(output_dir, 'top_crop')\n",
    "        center_crop_folder = os.path.join(output_dir, 'center_crop')\n",
    "        os.makedirs(top_crop_folder, exist_ok=True)\n",
    "        os.makedirs(center_crop_folder, exist_ok=True)\n",
    "    else:\n",
    "        os.makedirs(output_dir, exist_ok=True)\n",
    "\n",
    "    for filename in tqdm(image_files, desc=f'Processing {width}x{height}'):\n",
    "        img_path = os.path.join(input_dir, filename)\n",
    "        try:\n",
    "            with Image.open(img_path) as img:\n",
    "                img = img.convert(\"RGB\")\n",
    "                base_name, _ = os.path.splitext(filename)\n",
    "\n",
    "                # Center crop\n",
    "                img_center = resize_and_crop(img, (width, height), 'center')\n",
    "                center_filename = f\"{base_name}_{width}x{height}.jpg\"\n",
    "                if crop_option == '2':\n",
    "                    center_output_path = os.path.join(center_crop_folder, center_filename)\n",
    "                else:\n",
    "                    center_output_path = os.path.join(output_dir, center_filename)\n",
    "                img_center.save(center_output_path, 'JPEG', quality=95, optimize=True)\n",
    "\n",
    "                # Top crop\n",
    "                if crop_option == '2':\n",
    "                    img_top = resize_and_crop(img, (width, height), 'top')\n",
    "                    top_filename = f\"{base_name}_{width}x{height}.jpg\"\n",
    "                    top_output_path = os.path.join(top_crop_folder, top_filename)\n",
    "                    img_top.save(top_output_path, 'JPEG', quality=95, optimize=True)\n",
    "\n",
    "        except Exception as e:\n",
    "            print(f\"Failed to process {filename}: {e}\")\n",
    "\n",
    "print(\"✅ Resizing and cropping completed.\")\n"
   ]
  },
  {
   "cell_type": "code",
   "execution_count": null,
   "id": "f5857fbf-a054-46ea-9957-ddfa3f4020f1",
   "metadata": {},
   "outputs": [],
   "source": [
    "# Remove Size Suffix from Filenames\n",
    "# Ex: name_600x900.jpg → name.jpg\n",
    "\n",
    "\n",
    "import os\n",
    "import re\n",
    "\n",
    "# Caminho da pasta onde estão os arquivos\n",
    "folder_path = input(\"Enter the folder path: \").strip()\n",
    "\n",
    "# Regex para encontrar e remover _600x900, _300x450 etc.\n",
    "pattern = re.compile(r\"_(\\d{2,4}x\\d{2,4})(\\.jpg)$\", re.IGNORECASE)\n",
    "\n",
    "for filename in os.listdir(folder_path):\n",
    "    old_path = os.path.join(folder_path, filename)\n",
    "\n",
    "    if os.path.isfile(old_path) and filename.lower().endswith(\".jpg\"):\n",
    "        new_filename = re.sub(pattern, r\"\\2\", filename)\n",
    "        new_path = os.path.join(folder_path, new_filename)\n",
    "\n",
    "        if old_path != new_path:\n",
    "            os.rename(old_path, new_path)\n",
    "            print(f\"Renamed: {filename} → {new_filename}\")\n",
    "\n",
    "print(\"Renaming complete.\")\n"
   ]
  },
  {
   "cell_type": "code",
   "execution_count": null,
   "id": "478ab24a-d7f9-46e8-b613-a3911765adaa",
   "metadata": {},
   "outputs": [],
   "source": []
  }
 ],
 "metadata": {
  "kernelspec": {
   "display_name": "Python 3 (ipykernel)",
   "language": "python",
   "name": "python3"
  },
  "language_info": {
   "codemirror_mode": {
    "name": "ipython",
    "version": 3
   },
   "file_extension": ".py",
   "mimetype": "text/x-python",
   "name": "python",
   "nbconvert_exporter": "python",
   "pygments_lexer": "ipython3",
   "version": "3.13.5"
  }
 },
 "nbformat": 4,
 "nbformat_minor": 5
}
